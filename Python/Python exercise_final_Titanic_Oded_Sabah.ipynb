{
 "cells": [
  {
   "cell_type": "markdown",
   "metadata": {
    "pycharm": {
     "name": "#%% md\n"
    }
   },
   "source": [
    "# Understanding the Titanic Survival\n",
    "\n",
    "<img src=\"https://upload.wikimedia.org/wikipedia/commons/6/6e/St%C3%B6wer_Titanic.jpg\" />\n",
    "\n",
    "Wellcome to the Titanic, the largest British ship at the time,  that sank in the North\n",
    "Atlantic Ocean in the early hours of 15 April 1912.\n",
    "\n",
    "In this notebook we will try to undestand the characteristics of the individuals that were at the Titanic, how many survived and who survived.\n",
    "\n",
    "Please download the titanic.csv file from the Google Drive into your computer and load it\n",
    "using Pandas.\n",
    "\n",
    "This dataset is a partial dataset used as the training set on Kaggle's Titanic challenge.\n",
    "\n",
    "###  NOTE: Open this notebook in Jupiter and make a copy of it (File ->  Make a copy). Work on the copied notebook so you can use the original notebook as a reference for the expected results.\n",
    "\n",
    "### I recommend you to try to repeat the same analysis we make here using R :-)\n"
   ]
  },
  {
   "cell_type": "code",
   "execution_count": 258,
   "metadata": {
    "pycharm": {
     "name": "#%%\n"
    }
   },
   "outputs": [],
   "source": [
    "import numpy as np\n",
    "import pandas as pd\n",
    "import matplotlib.pyplot as plt\n",
    "import seaborn as sns"
   ]
  },
  {
   "cell_type": "code",
   "execution_count": 259,
   "metadata": {
    "pycharm": {
     "name": "#%%\n"
    }
   },
   "outputs": [],
   "source": [
    "### change this to the path you downloaded the file\n",
    "\n",
    "path = pd.read_csv(\"~/Desktop/titanic.csv\")"
   ]
  },
  {
   "cell_type": "code",
   "execution_count": 260,
   "metadata": {
    "pycharm": {
     "name": "#%%\n"
    }
   },
   "outputs": [
    {
     "data": {
      "text/plain": "   PassengerId  Survived  Pclass  \\\n0            1         0       3   \n1            2         1       1   \n2            3         1       3   \n3            4         1       1   \n4            5         0       3   \n\n                                                Name     Sex   Age  SibSp  \\\n0                            Braund, Mr. Owen Harris    male  22.0      1   \n1  Cumings, Mrs. John Bradley (Florence Briggs Th...  female  38.0      1   \n2                             Heikkinen, Miss. Laina  female  26.0      0   \n3       Futrelle, Mrs. Jacques Heath (Lily May Peel)  female  35.0      1   \n4                           Allen, Mr. William Henry    male  35.0      0   \n\n   Parch            Ticket     Fare Cabin Embarked  \n0      0         A/5 21171   7.2500   NaN        S  \n1      0          PC 17599  71.2833   C85        C  \n2      0  STON/O2. 3101282   7.9250   NaN        S  \n3      0            113803  53.1000  C123        S  \n4      0            373450   8.0500   NaN        S  ",
      "text/html": "<div>\n<style scoped>\n    .dataframe tbody tr th:only-of-type {\n        vertical-align: middle;\n    }\n\n    .dataframe tbody tr th {\n        vertical-align: top;\n    }\n\n    .dataframe thead th {\n        text-align: right;\n    }\n</style>\n<table border=\"1\" class=\"dataframe\">\n  <thead>\n    <tr style=\"text-align: right;\">\n      <th></th>\n      <th>PassengerId</th>\n      <th>Survived</th>\n      <th>Pclass</th>\n      <th>Name</th>\n      <th>Sex</th>\n      <th>Age</th>\n      <th>SibSp</th>\n      <th>Parch</th>\n      <th>Ticket</th>\n      <th>Fare</th>\n      <th>Cabin</th>\n      <th>Embarked</th>\n    </tr>\n  </thead>\n  <tbody>\n    <tr>\n      <th>0</th>\n      <td>1</td>\n      <td>0</td>\n      <td>3</td>\n      <td>Braund, Mr. Owen Harris</td>\n      <td>male</td>\n      <td>22.0</td>\n      <td>1</td>\n      <td>0</td>\n      <td>A/5 21171</td>\n      <td>7.2500</td>\n      <td>NaN</td>\n      <td>S</td>\n    </tr>\n    <tr>\n      <th>1</th>\n      <td>2</td>\n      <td>1</td>\n      <td>1</td>\n      <td>Cumings, Mrs. John Bradley (Florence Briggs Th...</td>\n      <td>female</td>\n      <td>38.0</td>\n      <td>1</td>\n      <td>0</td>\n      <td>PC 17599</td>\n      <td>71.2833</td>\n      <td>C85</td>\n      <td>C</td>\n    </tr>\n    <tr>\n      <th>2</th>\n      <td>3</td>\n      <td>1</td>\n      <td>3</td>\n      <td>Heikkinen, Miss. Laina</td>\n      <td>female</td>\n      <td>26.0</td>\n      <td>0</td>\n      <td>0</td>\n      <td>STON/O2. 3101282</td>\n      <td>7.9250</td>\n      <td>NaN</td>\n      <td>S</td>\n    </tr>\n    <tr>\n      <th>3</th>\n      <td>4</td>\n      <td>1</td>\n      <td>1</td>\n      <td>Futrelle, Mrs. Jacques Heath (Lily May Peel)</td>\n      <td>female</td>\n      <td>35.0</td>\n      <td>1</td>\n      <td>0</td>\n      <td>113803</td>\n      <td>53.1000</td>\n      <td>C123</td>\n      <td>S</td>\n    </tr>\n    <tr>\n      <th>4</th>\n      <td>5</td>\n      <td>0</td>\n      <td>3</td>\n      <td>Allen, Mr. William Henry</td>\n      <td>male</td>\n      <td>35.0</td>\n      <td>0</td>\n      <td>0</td>\n      <td>373450</td>\n      <td>8.0500</td>\n      <td>NaN</td>\n      <td>S</td>\n    </tr>\n  </tbody>\n</table>\n</div>"
     },
     "execution_count": 260,
     "metadata": {},
     "output_type": "execute_result"
    }
   ],
   "source": [
    "### user pandas to read the csv (read_csv())\n",
    "### show the top rows\n",
    "\n",
    "titanic = path\n",
    "titanic.head()"
   ]
  },
  {
   "cell_type": "markdown",
   "metadata": {
    "pycharm": {
     "name": "#%% md\n"
    }
   },
   "source": [
    "#### Columns\n",
    "\n",
    "Those the descriptions of the variables in this dataset:\n",
    "\n",
    "<table>\n",
    "    <tr><th> PassengerId </th><td> type should be integers </td></tr>\n",
    "    <tr><th> Survived </th><td> Survived or Not </td></tr>\n",
    "    <tr><th> Pclass </th><td> Class of Travel </td></tr>\n",
    "    <tr><th> Name </th><td> Name of Passenger </td></tr>\n",
    "    <tr><th> Sex </th><td> Gender </td></tr>\n",
    "    <tr><th> Age </th><td> </td></tr>\n",
    "    <tr><th> SibSp </th><td> Number of Sibling/Spouse abord </td></tr>\n",
    "    <tr><th> Parch </th><td> Number of Parent/Child abord </td></tr>\n",
    "    <tr><th> Ticket </th><td> </td></tr>\n",
    "    <tr><th> Fare </th><td> </td></tr>\n",
    "    <tr><th> Cabin </th><td> </td></tr>\n",
    "    <tr><th> Embarked </th><td> The port in which a passenger has embarked. <br> C - Cherbourg, S - Southampton, Q = Queenstown </td></tr>\n",
    "</table>\n"
   ]
  },
  {
   "cell_type": "markdown",
   "metadata": {
    "pycharm": {
     "name": "#%% md\n"
    }
   },
   "source": [
    "#### Passangers and Survival\n",
    "\n",
    "First, lets check how many passangers are on the Titanic's dataset and how many of them survived?"
   ]
  },
  {
   "cell_type": "code",
   "execution_count": 261,
   "metadata": {
    "pycharm": {
     "name": "#%%\n"
    }
   },
   "outputs": [
    {
     "name": "stdout",
     "output_type": "stream",
     "text": [
      "We have 891 passangers but only 342 of them survived (38.383838%)\n"
     ]
    }
   ],
   "source": [
    "passangers = len(titanic[\"PassengerId\"])\n",
    "survived = sum(titanic[\"Survived\"])\n",
    "\n",
    "print(f'We have {passangers} passangers but only {survived} of them survived ({round(survived/passangers*100, 6)}%)')\n"
   ]
  },
  {
   "cell_type": "markdown",
   "metadata": {
    "pycharm": {
     "name": "#%% md\n"
    }
   },
   "source": [
    "Answer: We have 891 passangers but only 342 of them survived (38.383838%)"
   ]
  },
  {
   "cell_type": "markdown",
   "metadata": {
    "pycharm": {
     "name": "#%% md\n"
    }
   },
   "source": [
    "#### Missing values\n",
    " \n",
    "How many missing values are in the dataset?"
   ]
  },
  {
   "cell_type": "code",
   "execution_count": 262,
   "metadata": {
    "pycharm": {
     "name": "#%%\n"
    }
   },
   "outputs": [
    {
     "name": "stdout",
     "output_type": "stream",
     "text": [
      "PassengerId      0\n",
      "Survived         0\n",
      "Pclass           0\n",
      "Name             0\n",
      "Sex              0\n",
      "Age            177\n",
      "SibSp            0\n",
      "Parch            0\n",
      "Ticket           0\n",
      "Fare             0\n",
      "Cabin          687\n",
      "Embarked         2\n",
      "dtype: int64\n",
      "The only variables having missing values are: Age (177), Cabin (687) and Emberked (2).\n"
     ]
    }
   ],
   "source": [
    "### use the function isnull() and the function sum()\n",
    "titanic_null_columns = titanic.isnull().sum()\n",
    "print(titanic_null_columns)\n",
    "\n",
    "Age = titanic_null_columns.loc[\"Age\"]\n",
    "Cabin = titanic_null_columns.loc[\"Cabin\"]\n",
    "Embarked = titanic_null_columns.loc[\"Embarked\"]\n",
    "print(f'The only variables having missing values are: Age ({Age}), Cabin ({Cabin}) and Emberked ({Embarked}).')\n"
   ]
  },
  {
   "cell_type": "markdown",
   "metadata": {
    "pycharm": {
     "name": "#%% md\n"
    }
   },
   "source": [
    "Answer: The only variables having missing values are: Age (177), Cabin (687) and Emberked (2)"
   ]
  },
  {
   "cell_type": "markdown",
   "metadata": {
    "pycharm": {
     "name": "#%% md\n"
    }
   },
   "source": [
    "#### Gender distribution and survival\n",
    "\n",
    "How distributed the survivors by gender?"
   ]
  },
  {
   "cell_type": "code",
   "execution_count": 263,
   "metadata": {
    "pycharm": {
     "name": "#%%\n"
    }
   },
   "outputs": [
    {
     "name": "stdout",
     "output_type": "stream",
     "text": [
      "       Survived               \n",
      "          count  sum      mean\n",
      "Sex                           \n",
      "female      314  233  0.742038\n",
      "male        577  109  0.188908\n",
      "\n",
      "Survived\n",
      "Sex count sum mean female [314.0, 233.0, 0.7420382165605095] male [577.0, 109.0, 0.18890814558058924].\n"
     ]
    }
   ],
   "source": [
    "## use groupby() and agg() to get the table bellow\n",
    "survivors_by_gender = titanic.groupby('Sex').agg({'Survived':[\"count\",sum,\"mean\"]})\n",
    "\n",
    "female = list(survivors_by_gender.iloc[0])\n",
    "male = list(survivors_by_gender.iloc[1])\n",
    "\n",
    "print(f'{survivors_by_gender}\\n\\nSurvived\\nSex count sum mean female {female} male {male}.')"
   ]
  },
  {
   "cell_type": "markdown",
   "metadata": {
    "pycharm": {
     "name": "#%% md\n"
    }
   },
   "source": [
    "Survived\n",
    "\n",
    "Sex\t\tcount\tsum\tmean\n",
    "female\t  314\t233\t0.742038\n",
    "male\t  577\t109\t0.188908\n",
    "\n"
   ]
  },
  {
   "cell_type": "markdown",
   "metadata": {
    "pycharm": {
     "name": "#%% md\n"
    }
   },
   "source": [
    "#### Age distribution and survival\n",
    "\n",
    "Plot the Age frequencies of the passangers. (use an histogram)\n"
   ]
  },
  {
   "cell_type": "code",
   "execution_count": 264,
   "metadata": {
    "pycharm": {
     "name": "#%%\n"
    }
   },
   "outputs": [
    {
     "data": {
      "text/plain": "count    714.000000\nmean      29.699118\nstd       14.526497\nmin        0.420000\n25%       20.125000\n50%       28.000000\n75%       38.000000\nmax       80.000000\nName: Age, dtype: float64"
     },
     "execution_count": 264,
     "metadata": {},
     "output_type": "execute_result"
    }
   ],
   "source": [
    "titanic['Age'].describe()"
   ]
  },
  {
   "cell_type": "code",
   "execution_count": 265,
   "metadata": {
    "pycharm": {
     "name": "#%%\n"
    }
   },
   "outputs": [
    {
     "data": {
      "text/plain": "<Figure size 432x288 with 1 Axes>",
      "image/png": "[encoded data removed]"
     },
     "metadata": {
      "needs_background": "light"
     },
     "output_type": "display_data"
    }
   ],
   "source": [
    "### As there are null values in Age, we have to drop those nulls adding the .dropna() function !\n",
    "fig, ax = plt.subplots()\n",
    "ax.hist(x=titanic['Age'].dropna())\n",
    "plt.show()"
   ]
  },
  {
   "cell_type": "code",
   "execution_count": 266,
   "metadata": {
    "pycharm": {
     "name": "#%%\n"
    }
   },
   "outputs": [
    {
     "data": {
      "text/plain": "(0.0, 100.0)"
     },
     "execution_count": 266,
     "metadata": {},
     "output_type": "execute_result"
    },
    {
     "data": {
      "text/plain": "<Figure size 432x288 with 1 Axes>",
      "image/png": "[encoded data removed]"
     },
     "metadata": {
      "needs_background": "light"
     },
     "output_type": "display_data"
    }
   ],
   "source": [
    "### A more sophisticated example...\n",
    "n, bins, patches = plt.hist(x=titanic['Age'].dropna(), bins='auto', color='#0504aa',alpha=0.7, rwidth=0.85)\n",
    "plt.grid(axis='y', alpha=0.75)\n",
    "plt.xlabel('Age')\n",
    "plt.ylabel('Frequency')\n",
    "plt.title('Age Distribution of the Titanic Passengers')\n",
    "maxfreq = n.max()\n",
    "# Set a clean upper y-axis limit.\n",
    "plt.ylim(ymax=np.ceil(maxfreq / 10) * 10 if maxfreq % 10 else maxfreq + 10)\n"
   ]
  },
  {
   "cell_type": "code",
   "execution_count": 267,
   "metadata": {
    "pycharm": {
     "name": "#%%\n"
    }
   },
   "outputs": [
    {
     "data": {
      "text/plain": "<seaborn.axisgrid.FacetGrid at 0x7fe68e5ecd00>"
     },
     "execution_count": 267,
     "metadata": {},
     "output_type": "execute_result"
    },
    {
     "data": {
      "text/plain": "<Figure size 360x360 with 1 Axes>",
      "image/png": "[encoded data removed]"
     },
     "metadata": {
      "needs_background": "light"
     },
     "output_type": "display_data"
    }
   ],
   "source": [
    "### using seaborn... easier to create...\n",
    "sns.displot(data=titanic, x=\"Age\", kde=True)"
   ]
  },
  {
   "cell_type": "markdown",
   "metadata": {
    "pycharm": {
     "name": "#%% md\n"
    }
   },
   "source": [
    "\n",
    "Create a new variable that will divide the passangers in four age categories:\n",
    "\n",
    "- Babies: 0-5\n",
    "- Children: 6-12 years old\n",
    "- Young: 13-17 years old\n",
    "- Adult: 18-59 years old\n",
    "- Older: 60+ years old\n",
    "\n",
    "How many (number and percent) survived on each age group? (We will use the mean function as the percentage)\n"
   ]
  },
  {
   "cell_type": "code",
   "execution_count": 268,
   "metadata": {
    "pycharm": {
     "name": "#%%\n"
    }
   },
   "outputs": [
    {
     "data": {
      "text/plain": "   PassengerId  Survived  Pclass  \\\n0            1         0       3   \n1            2         1       1   \n2            3         1       3   \n3            4         1       1   \n4            5         0       3   \n\n                                                Name     Sex   Age  SibSp  \\\n0                            Braund, Mr. Owen Harris    male  22.0      1   \n1  Cumings, Mrs. John Bradley (Florence Briggs Th...  female  38.0      1   \n2                             Heikkinen, Miss. Laina  female  26.0      0   \n3       Futrelle, Mrs. Jacques Heath (Lily May Peel)  female  35.0      1   \n4                           Allen, Mr. William Henry    male  35.0      0   \n\n   Parch            Ticket     Fare Cabin Embarked AgeGroup  \n0      0         A/5 21171   7.2500   NaN        S    18-59  \n1      0          PC 17599  71.2833   C85        C    18-59  \n2      0  STON/O2. 3101282   7.9250   NaN        S    18-59  \n3      0            113803  53.1000  C123        S    18-59  \n4      0            373450   8.0500   NaN        S    18-59  ",
      "text/html": "<div>\n<style scoped>\n    .dataframe tbody tr th:only-of-type {\n        vertical-align: middle;\n    }\n\n    .dataframe tbody tr th {\n        vertical-align: top;\n    }\n\n    .dataframe thead th {\n        text-align: right;\n    }\n</style>\n<table border=\"1\" class=\"dataframe\">\n  <thead>\n    <tr style=\"text-align: right;\">\n      <th></th>\n      <th>PassengerId</th>\n      <th>Survived</th>\n      <th>Pclass</th>\n      <th>Name</th>\n      <th>Sex</th>\n      <th>Age</th>\n      <th>SibSp</th>\n      <th>Parch</th>\n      <th>Ticket</th>\n      <th>Fare</th>\n      <th>Cabin</th>\n      <th>Embarked</th>\n      <th>AgeGroup</th>\n    </tr>\n  </thead>\n  <tbody>\n    <tr>\n      <th>0</th>\n      <td>1</td>\n      <td>0</td>\n      <td>3</td>\n      <td>Braund, Mr. Owen Harris</td>\n      <td>male</td>\n      <td>22.0</td>\n      <td>1</td>\n      <td>0</td>\n      <td>A/5 21171</td>\n      <td>7.2500</td>\n      <td>NaN</td>\n      <td>S</td>\n      <td>18-59</td>\n    </tr>\n    <tr>\n      <th>1</th>\n      <td>2</td>\n      <td>1</td>\n      <td>1</td>\n      <td>Cumings, Mrs. John Bradley (Florence Briggs Th...</td>\n      <td>female</td>\n      <td>38.0</td>\n      <td>1</td>\n      <td>0</td>\n      <td>PC 17599</td>\n      <td>71.2833</td>\n      <td>C85</td>\n      <td>C</td>\n      <td>18-59</td>\n    </tr>\n    <tr>\n      <th>2</th>\n      <td>3</td>\n      <td>1</td>\n      <td>3</td>\n      <td>Heikkinen, Miss. Laina</td>\n      <td>female</td>\n      <td>26.0</td>\n      <td>0</td>\n      <td>0</td>\n      <td>STON/O2. 3101282</td>\n      <td>7.9250</td>\n      <td>NaN</td>\n      <td>S</td>\n      <td>18-59</td>\n    </tr>\n    <tr>\n      <th>3</th>\n      <td>4</td>\n      <td>1</td>\n      <td>1</td>\n      <td>Futrelle, Mrs. Jacques Heath (Lily May Peel)</td>\n      <td>female</td>\n      <td>35.0</td>\n      <td>1</td>\n      <td>0</td>\n      <td>113803</td>\n      <td>53.1000</td>\n      <td>C123</td>\n      <td>S</td>\n      <td>18-59</td>\n    </tr>\n    <tr>\n      <th>4</th>\n      <td>5</td>\n      <td>0</td>\n      <td>3</td>\n      <td>Allen, Mr. William Henry</td>\n      <td>male</td>\n      <td>35.0</td>\n      <td>0</td>\n      <td>0</td>\n      <td>373450</td>\n      <td>8.0500</td>\n      <td>NaN</td>\n      <td>S</td>\n      <td>18-59</td>\n    </tr>\n  </tbody>\n</table>\n</div>"
     },
     "execution_count": 268,
     "metadata": {},
     "output_type": "execute_result"
    }
   ],
   "source": [
    "### create the categorical variables\n",
    "titanic.loc[titanic['Age']<=5, 'AgeGroup'] = '0-5'\n",
    "titanic.loc[titanic['Age'].between(6,13), 'AgeGroup'] = '6-12'\n",
    "titanic.loc[titanic['Age'].between(13,18), 'AgeGroup'] = '13-17'\n",
    "titanic.loc[titanic['Age'].between(18,59), 'AgeGroup'] = '18-59'\n",
    "titanic.loc[titanic['Age']>=60, 'AgeGroup'] = '60+'\n",
    "titanic.loc[titanic['Age'].isnull(), 'AgeGroup'] = 'unclassified'\n",
    "titanic.head()"
   ]
  },
  {
   "cell_type": "code",
   "execution_count": 269,
   "metadata": {
    "pycharm": {
     "name": "#%%\n"
    }
   },
   "outputs": [
    {
     "data": {
      "text/plain": "             Survived               \n                count  sum      mean\nAgeGroup                            \n0-5                44   31  0.704545\n13-17              44   21  0.477273\n18-59             575  222  0.386087\n6-12               25    9  0.360000\n60+                26    7  0.269231\nunclassified      177   52  0.293785",
      "text/html": "<div>\n<style scoped>\n    .dataframe tbody tr th:only-of-type {\n        vertical-align: middle;\n    }\n\n    .dataframe tbody tr th {\n        vertical-align: top;\n    }\n\n    .dataframe thead tr th {\n        text-align: left;\n    }\n\n    .dataframe thead tr:last-of-type th {\n        text-align: right;\n    }\n</style>\n<table border=\"1\" class=\"dataframe\">\n  <thead>\n    <tr>\n      <th></th>\n      <th colspan=\"3\" halign=\"left\">Survived</th>\n    </tr>\n    <tr>\n      <th></th>\n      <th>count</th>\n      <th>sum</th>\n      <th>mean</th>\n    </tr>\n    <tr>\n      <th>AgeGroup</th>\n      <th></th>\n      <th></th>\n      <th></th>\n    </tr>\n  </thead>\n  <tbody>\n    <tr>\n      <th>0-5</th>\n      <td>44</td>\n      <td>31</td>\n      <td>0.704545</td>\n    </tr>\n    <tr>\n      <th>13-17</th>\n      <td>44</td>\n      <td>21</td>\n      <td>0.477273</td>\n    </tr>\n    <tr>\n      <th>18-59</th>\n      <td>575</td>\n      <td>222</td>\n      <td>0.386087</td>\n    </tr>\n    <tr>\n      <th>6-12</th>\n      <td>25</td>\n      <td>9</td>\n      <td>0.360000</td>\n    </tr>\n    <tr>\n      <th>60+</th>\n      <td>26</td>\n      <td>7</td>\n      <td>0.269231</td>\n    </tr>\n    <tr>\n      <th>unclassified</th>\n      <td>177</td>\n      <td>52</td>\n      <td>0.293785</td>\n    </tr>\n  </tbody>\n</table>\n</div>"
     },
     "execution_count": 269,
     "metadata": {},
     "output_type": "execute_result"
    }
   ],
   "source": [
    "## use groupby() and agg() to get the table bellow\n",
    "survivors_by_AgeGroup = titanic.groupby('AgeGroup').agg({'Survived':[\"count\",sum,\"mean\"]})\n",
    "survivors_by_AgeGroup"
   ]
  },
  {
   "cell_type": "markdown",
   "metadata": {
    "pycharm": {
     "name": "#%% md\n"
    }
   },
   "source": [
    "\tSurvived\n",
    "\n",
    "AgeGroup count\tsum\tmean\t\t\t\n",
    "0-5\t      44\t31\t0.704545\n",
    "6-12\t  25\t9\t0.360000\n",
    "13-17\t  44\t21\t0.477273\n",
    "18-59\t  752\t274\t0.364362\n",
    "60+\t      26\t7\t0.269231"
   ]
  },
  {
   "cell_type": "markdown",
   "metadata": {
    "pycharm": {
     "name": "#%% md\n"
    }
   },
   "source": [
    "#### Age-Gender Survival\n",
    "\n",
    "Where there differences on survival by age group and gender?"
   ]
  },
  {
   "cell_type": "code",
   "execution_count": 270,
   "metadata": {
    "pycharm": {
     "name": "#%%\n"
    }
   },
   "outputs": [
    {
     "data": {
      "text/plain": "                    Survived               \n                       count  sum      mean\nSex    AgeGroup                            \nfemale 0-5                21   16  0.761905\n       13-17              23   19  0.826087\n       18-59             202  155  0.767327\n       6-12               11    3  0.272727\n       60+                 4    4  1.000000\n       unclassified       53   36  0.679245\nmale   0-5                23   15  0.652174\n       13-17              21    2  0.095238\n       18-59             373   67  0.179625\n       6-12               14    6  0.428571\n       60+                22    3  0.136364\n       unclassified      124   16  0.129032",
      "text/html": "<div>\n<style scoped>\n    .dataframe tbody tr th:only-of-type {\n        vertical-align: middle;\n    }\n\n    .dataframe tbody tr th {\n        vertical-align: top;\n    }\n\n    .dataframe thead tr th {\n        text-align: left;\n    }\n\n    .dataframe thead tr:last-of-type th {\n        text-align: right;\n    }\n</style>\n<table border=\"1\" class=\"dataframe\">\n  <thead>\n    <tr>\n      <th></th>\n      <th></th>\n      <th colspan=\"3\" halign=\"left\">Survived</th>\n    </tr>\n    <tr>\n      <th></th>\n      <th></th>\n      <th>count</th>\n      <th>sum</th>\n      <th>mean</th>\n    </tr>\n    <tr>\n      <th>Sex</th>\n      <th>AgeGroup</th>\n      <th></th>\n      <th></th>\n      <th></th>\n    </tr>\n  </thead>\n  <tbody>\n    <tr>\n      <th rowspan=\"6\" valign=\"top\">female</th>\n      <th>0-5</th>\n      <td>21</td>\n      <td>16</td>\n      <td>0.761905</td>\n    </tr>\n    <tr>\n      <th>13-17</th>\n      <td>23</td>\n      <td>19</td>\n      <td>0.826087</td>\n    </tr>\n    <tr>\n      <th>18-59</th>\n      <td>202</td>\n      <td>155</td>\n      <td>0.767327</td>\n    </tr>\n    <tr>\n      <th>6-12</th>\n      <td>11</td>\n      <td>3</td>\n      <td>0.272727</td>\n    </tr>\n    <tr>\n      <th>60+</th>\n      <td>4</td>\n      <td>4</td>\n      <td>1.000000</td>\n    </tr>\n    <tr>\n      <th>unclassified</th>\n      <td>53</td>\n      <td>36</td>\n      <td>0.679245</td>\n    </tr>\n    <tr>\n      <th rowspan=\"6\" valign=\"top\">male</th>\n      <th>0-5</th>\n      <td>23</td>\n      <td>15</td>\n      <td>0.652174</td>\n    </tr>\n    <tr>\n      <th>13-17</th>\n      <td>21</td>\n      <td>2</td>\n      <td>0.095238</td>\n    </tr>\n    <tr>\n      <th>18-59</th>\n      <td>373</td>\n      <td>67</td>\n      <td>0.179625</td>\n    </tr>\n    <tr>\n      <th>6-12</th>\n      <td>14</td>\n      <td>6</td>\n      <td>0.428571</td>\n    </tr>\n    <tr>\n      <th>60+</th>\n      <td>22</td>\n      <td>3</td>\n      <td>0.136364</td>\n    </tr>\n    <tr>\n      <th>unclassified</th>\n      <td>124</td>\n      <td>16</td>\n      <td>0.129032</td>\n    </tr>\n  </tbody>\n</table>\n</div>"
     },
     "execution_count": 270,
     "metadata": {},
     "output_type": "execute_result"
    }
   ],
   "source": [
    "## use groupby() and agg() to get the table bellow\n",
    "titanic.groupby(['Sex','AgeGroup']).agg({'Survived':[\"count\",sum,\"mean\"]})"
   ]
  },
  {
   "cell_type": "markdown",
   "metadata": {
    "pycharm": {
     "name": "#%% md\n"
    }
   },
   "source": [
    "Survived\n",
    "\n",
    "Sex\t  AgeGroup count\tsum\tmean\t\t\n",
    "female\t0-5\t    21\t    16\t0.761905\n",
    "        6-12\t11\t    3\t0.272727\n",
    "        13-17\t23\t    19\t0.826087\n",
    "        18-59\t255\t    191\t0.749020\n",
    "        60+\t    4\t    4\t1.000000\n",
    "male\t0-5\t    23\t    15\t0.652174\n",
    "        6-12\t14\t    6\t0.428571\n",
    "        13-17\t21\t    2\t0.095238\n",
    "        18-59\t497\t    83\t0.167002\n",
    "        60+\t    22\t    3\t0.136364"
   ]
  },
  {
   "cell_type": "markdown",
   "metadata": {
    "pycharm": {
     "name": "#%% md\n"
    }
   },
   "source": [
    "#### Passenger Class and Survival\n",
    "\n",
    "Was there any difference in the survival among passangers by their ticket class (Pclass) ?"
   ]
  },
  {
   "cell_type": "code",
   "execution_count": 271,
   "metadata": {
    "pycharm": {
     "name": "#%%\n"
    }
   },
   "outputs": [
    {
     "data": {
      "text/plain": "       Survived               \n          count  sum      mean\nPclass                        \n1           216  136  0.629630\n2           184   87  0.472826\n3           491  119  0.242363",
      "text/html": "<div>\n<style scoped>\n    .dataframe tbody tr th:only-of-type {\n        vertical-align: middle;\n    }\n\n    .dataframe tbody tr th {\n        vertical-align: top;\n    }\n\n    .dataframe thead tr th {\n        text-align: left;\n    }\n\n    .dataframe thead tr:last-of-type th {\n        text-align: right;\n    }\n</style>\n<table border=\"1\" class=\"dataframe\">\n  <thead>\n    <tr>\n      <th></th>\n      <th colspan=\"3\" halign=\"left\">Survived</th>\n    </tr>\n    <tr>\n      <th></th>\n      <th>count</th>\n      <th>sum</th>\n      <th>mean</th>\n    </tr>\n    <tr>\n      <th>Pclass</th>\n      <th></th>\n      <th></th>\n      <th></th>\n    </tr>\n  </thead>\n  <tbody>\n    <tr>\n      <th>1</th>\n      <td>216</td>\n      <td>136</td>\n      <td>0.629630</td>\n    </tr>\n    <tr>\n      <th>2</th>\n      <td>184</td>\n      <td>87</td>\n      <td>0.472826</td>\n    </tr>\n    <tr>\n      <th>3</th>\n      <td>491</td>\n      <td>119</td>\n      <td>0.242363</td>\n    </tr>\n  </tbody>\n</table>\n</div>"
     },
     "execution_count": 271,
     "metadata": {},
     "output_type": "execute_result"
    }
   ],
   "source": [
    "## use groupby() and agg() to get the table bellow\n",
    "titanic.groupby(['Pclass']).agg({'Survived':[\"count\",sum,\"mean\"]})"
   ]
  },
  {
   "cell_type": "markdown",
   "metadata": {
    "pycharm": {
     "name": "#%% md\n"
    }
   },
   "source": [
    "Survived\n",
    "\n",
    "Pclass\tcount\tsum\tmean\t\t\n",
    "    1\t216\t    136\t0.629630\n",
    "    2\t184\t    87\t0.472826\n",
    "    3\t491\t    119\t0.242363\n"
   ]
  },
  {
   "cell_type": "markdown",
   "metadata": {
    "pycharm": {
     "name": "#%% md\n"
    }
   },
   "source": [
    "#### Traveling alone vs with family\n",
    "\n",
    "Who survived more, individuals that traveled alone or those who traveled with their families?"
   ]
  },
  {
   "cell_type": "code",
   "execution_count": 272,
   "metadata": {
    "pycharm": {
     "name": "#%%\n"
    }
   },
   "outputs": [
    {
     "data": {
      "text/plain": "            Survived               \n               count  sum      mean\nTravelAlone                        \nFalse            354  179  0.505650\nTrue             537  163  0.303538",
      "text/html": "<div>\n<style scoped>\n    .dataframe tbody tr th:only-of-type {\n        vertical-align: middle;\n    }\n\n    .dataframe tbody tr th {\n        vertical-align: top;\n    }\n\n    .dataframe thead tr th {\n        text-align: left;\n    }\n\n    .dataframe thead tr:last-of-type th {\n        text-align: right;\n    }\n</style>\n<table border=\"1\" class=\"dataframe\">\n  <thead>\n    <tr>\n      <th></th>\n      <th colspan=\"3\" halign=\"left\">Survived</th>\n    </tr>\n    <tr>\n      <th></th>\n      <th>count</th>\n      <th>sum</th>\n      <th>mean</th>\n    </tr>\n    <tr>\n      <th>TravelAlone</th>\n      <th></th>\n      <th></th>\n      <th></th>\n    </tr>\n  </thead>\n  <tbody>\n    <tr>\n      <th>False</th>\n      <td>354</td>\n      <td>179</td>\n      <td>0.505650</td>\n    </tr>\n    <tr>\n      <th>True</th>\n      <td>537</td>\n      <td>163</td>\n      <td>0.303538</td>\n    </tr>\n  </tbody>\n</table>\n</div>"
     },
     "execution_count": 272,
     "metadata": {},
     "output_type": "execute_result"
    }
   ],
   "source": [
    "# first we have to determine who was alone and who was in family. Use the variables SibSp and Parch\n",
    "titanic['TravelAlone'] = (titanic['SibSp'] + titanic['Parch']) == 0\n",
    "\n",
    "## then use groupby() and agg() to get the table bellow\n",
    "titanic.groupby(['TravelAlone']).agg({'Survived':[\"count\",sum,\"mean\"]})"
   ]
  },
  {
   "cell_type": "markdown",
   "metadata": {
    "pycharm": {
     "name": "#%% md\n"
    }
   },
   "source": [
    "Survived\n",
    "\n",
    "TravelAlone\tcount\tsum\tmean\t\t\n",
    "    0\t     354\t179\t0.505650\n",
    "    1\t     537\t163\t0.303538"
   ]
  },
  {
   "cell_type": "markdown",
   "metadata": {
    "pycharm": {
     "name": "#%% md\n"
    }
   },
   "source": [
    "#### Embarking port and survival\n",
    "\n",
    "Was there any difference in survival related to the embarking port?"
   ]
  },
  {
   "cell_type": "code",
   "execution_count": 273,
   "metadata": {
    "pycharm": {
     "name": "#%%\n"
    }
   },
   "outputs": [
    {
     "data": {
      "text/plain": "         Survived               \n            count  sum      mean\nEmbarked                        \nC             168   93  0.553571\nQ              77   30  0.389610\nS             644  217  0.336957",
      "text/html": "<div>\n<style scoped>\n    .dataframe tbody tr th:only-of-type {\n        vertical-align: middle;\n    }\n\n    .dataframe tbody tr th {\n        vertical-align: top;\n    }\n\n    .dataframe thead tr th {\n        text-align: left;\n    }\n\n    .dataframe thead tr:last-of-type th {\n        text-align: right;\n    }\n</style>\n<table border=\"1\" class=\"dataframe\">\n  <thead>\n    <tr>\n      <th></th>\n      <th colspan=\"3\" halign=\"left\">Survived</th>\n    </tr>\n    <tr>\n      <th></th>\n      <th>count</th>\n      <th>sum</th>\n      <th>mean</th>\n    </tr>\n    <tr>\n      <th>Embarked</th>\n      <th></th>\n      <th></th>\n      <th></th>\n    </tr>\n  </thead>\n  <tbody>\n    <tr>\n      <th>C</th>\n      <td>168</td>\n      <td>93</td>\n      <td>0.553571</td>\n    </tr>\n    <tr>\n      <th>Q</th>\n      <td>77</td>\n      <td>30</td>\n      <td>0.389610</td>\n    </tr>\n    <tr>\n      <th>S</th>\n      <td>644</td>\n      <td>217</td>\n      <td>0.336957</td>\n    </tr>\n  </tbody>\n</table>\n</div>"
     },
     "execution_count": 273,
     "metadata": {},
     "output_type": "execute_result"
    }
   ],
   "source": [
    "## use groupby() and agg() to get the table bellow\n",
    "titanic.groupby(['Embarked']).agg({'Survived':[\"count\",sum,\"mean\"]})"
   ]
  },
  {
   "cell_type": "markdown",
   "metadata": {
    "pycharm": {
     "name": "#%% md\n"
    }
   },
   "source": [
    "Survived\n",
    "\n",
    "Embarked  count\tsum\tmean\t\t\t\n",
    "    C\t   168\t93\t0.553571\n",
    "    Q\t    77\t30\t0.389610\n",
    "    S\t   644\t217\t0.336957"
   ]
  },
  {
   "cell_type": "markdown",
   "metadata": {
    "pycharm": {
     "name": "#%% md\n"
    }
   },
   "source": [
    "#### Paid fair and survival\n",
    "\n",
    "What was the fare range paid by the passangers?\n"
   ]
  },
  {
   "cell_type": "code",
   "execution_count": 274,
   "metadata": {
    "pycharm": {
     "name": "#%%\n"
    }
   },
   "outputs": [
    {
     "data": {
      "text/plain": "<seaborn.axisgrid.FacetGrid at 0x7fe6908da970>"
     },
     "execution_count": 274,
     "metadata": {},
     "output_type": "execute_result"
    },
    {
     "data": {
      "text/plain": "<Figure size 360x360 with 1 Axes>",
      "image/png": "[encoded data removed]"
     },
     "metadata": {
      "needs_background": "light"
     },
     "output_type": "display_data"
    }
   ],
   "source": [
    "#### use describe() to get the summary of the Fare variable\n",
    "titanic['Fare'].describe()\n",
    "\n",
    "### draw an histogram for the Fare variable.\n",
    "sns.displot(data=titanic, x=\"Fare\", kde=False)\n"
   ]
  },
  {
   "cell_type": "markdown",
   "metadata": {
    "pycharm": {
     "name": "#%% md\n"
    }
   },
   "source": [
    "How many individuals didn't paid for their ticket?\n",
    " \n",
    "Does this affected their survival?"
   ]
  },
  {
   "cell_type": "code",
   "execution_count": 275,
   "metadata": {
    "pycharm": {
     "name": "#%%\n"
    }
   },
   "outputs": [
    {
     "data": {
      "text/plain": "15"
     },
     "execution_count": 275,
     "metadata": {},
     "output_type": "execute_result"
    }
   ],
   "source": [
    "### get the number of those with a Fare == 0\n",
    "sum(titanic['Fare'] == 0)"
   ]
  },
  {
   "cell_type": "code",
   "execution_count": 276,
   "metadata": {
    "pycharm": {
     "name": "#%%\n"
    }
   },
   "outputs": [
    {
     "data": {
      "text/plain": "       Survived               \n          count  sum      mean\nGratis                        \nFalse       876  341  0.389269\nTrue         15    1  0.066667",
      "text/html": "<div>\n<style scoped>\n    .dataframe tbody tr th:only-of-type {\n        vertical-align: middle;\n    }\n\n    .dataframe tbody tr th {\n        vertical-align: top;\n    }\n\n    .dataframe thead tr th {\n        text-align: left;\n    }\n\n    .dataframe thead tr:last-of-type th {\n        text-align: right;\n    }\n</style>\n<table border=\"1\" class=\"dataframe\">\n  <thead>\n    <tr>\n      <th></th>\n      <th colspan=\"3\" halign=\"left\">Survived</th>\n    </tr>\n    <tr>\n      <th></th>\n      <th>count</th>\n      <th>sum</th>\n      <th>mean</th>\n    </tr>\n    <tr>\n      <th>Gratis</th>\n      <th></th>\n      <th></th>\n      <th></th>\n    </tr>\n  </thead>\n  <tbody>\n    <tr>\n      <th>False</th>\n      <td>876</td>\n      <td>341</td>\n      <td>0.389269</td>\n    </tr>\n    <tr>\n      <th>True</th>\n      <td>15</td>\n      <td>1</td>\n      <td>0.066667</td>\n    </tr>\n  </tbody>\n</table>\n</div>"
     },
     "execution_count": 276,
     "metadata": {},
     "output_type": "execute_result"
    }
   ],
   "source": [
    "### Create a new variable called Gratis and give 1 to passangers who didn't pay\n",
    "\n",
    "titanic['Gratis'] = titanic['Fare'] == 0\n",
    "# titanic['Gratis'] = not titanic['Gratis']\n",
    "## then use groupby() and agg() to get the table bellow\n",
    "titanic.groupby(['Gratis']).agg({'Survived':[\"count\",sum,\"mean\"]})\n"
   ]
  },
  {
   "cell_type": "markdown",
   "metadata": {
    "pycharm": {
     "name": "#%% md\n"
    }
   },
   "source": [
    "Where there differences in fare rates among the same ticket classes? \n",
    " \n",
    "If the answer was yes, does those differences affected the survival of individuals?"
   ]
  },
  {
   "cell_type": "code",
   "execution_count": 277,
   "metadata": {
    "pycharm": {
     "name": "#%%\n"
    }
   },
   "outputs": [
    {
     "data": {
      "text/plain": "        count       mean        std  min       25%      50%   75%       max\nPclass                                                                     \n1       216.0  84.154687  78.380373  0.0  30.92395  60.2875  93.5  512.3292\n2       184.0  20.662183  13.417399  0.0  13.00000  14.2500  26.0   73.5000\n3       491.0  13.675550  11.778142  0.0   7.75000   8.0500  15.5   69.5500",
      "text/html": "<div>\n<style scoped>\n    .dataframe tbody tr th:only-of-type {\n        vertical-align: middle;\n    }\n\n    .dataframe tbody tr th {\n        vertical-align: top;\n    }\n\n    .dataframe thead th {\n        text-align: right;\n    }\n</style>\n<table border=\"1\" class=\"dataframe\">\n  <thead>\n    <tr style=\"text-align: right;\">\n      <th></th>\n      <th>count</th>\n      <th>mean</th>\n      <th>std</th>\n      <th>min</th>\n      <th>25%</th>\n      <th>50%</th>\n      <th>75%</th>\n      <th>max</th>\n    </tr>\n    <tr>\n      <th>Pclass</th>\n      <th></th>\n      <th></th>\n      <th></th>\n      <th></th>\n      <th></th>\n      <th></th>\n      <th></th>\n      <th></th>\n    </tr>\n  </thead>\n  <tbody>\n    <tr>\n      <th>1</th>\n      <td>216.0</td>\n      <td>84.154687</td>\n      <td>78.380373</td>\n      <td>0.0</td>\n      <td>30.92395</td>\n      <td>60.2875</td>\n      <td>93.5</td>\n      <td>512.3292</td>\n    </tr>\n    <tr>\n      <th>2</th>\n      <td>184.0</td>\n      <td>20.662183</td>\n      <td>13.417399</td>\n      <td>0.0</td>\n      <td>13.00000</td>\n      <td>14.2500</td>\n      <td>26.0</td>\n      <td>73.5000</td>\n    </tr>\n    <tr>\n      <th>3</th>\n      <td>491.0</td>\n      <td>13.675550</td>\n      <td>11.778142</td>\n      <td>0.0</td>\n      <td>7.75000</td>\n      <td>8.0500</td>\n      <td>15.5</td>\n      <td>69.5500</td>\n    </tr>\n  </tbody>\n</table>\n</div>"
     },
     "execution_count": 277,
     "metadata": {},
     "output_type": "execute_result"
    }
   ],
   "source": [
    "byPclass = titanic.groupby('Pclass')\n",
    "byPclass = byPclass['Fare'].describe()\n",
    "byPclass"
   ]
  },
  {
   "cell_type": "code",
   "execution_count": 278,
   "metadata": {
    "pycharm": {
     "name": "#%%\n"
    }
   },
   "outputs": [],
   "source": [
    "### We will use the data on the desctiptive table to divide the paid fare:\n",
    "### Those who paid more than the 75% where considered 'Overpaid', \n",
    "### If paid less than the 25% where categorized as 'Underpaid', else 'Normal' fare\n",
    "\n",
    "df1 = titanic[['Survived', 'Pclass','Fare']].set_index('Pclass')\n",
    "result = pd.concat([df1, byPclass], axis=1, join=\"outer\").reset_index()\n",
    "result.loc[result['Fare'] >= result['75%'] , 'FareGroup'] = 'Overpaid'\n",
    "result.loc[result['Fare'] <= result['25%'] , 'FareGroup'] = 'Underpaid'\n",
    "result.loc[result['Fare'].between(result['25%'], result['75%']) , 'FareGroup'] = 'Normal'"
   ]
  },
  {
   "cell_type": "markdown",
   "metadata": {
    "pycharm": {
     "name": "#%% md\n"
    }
   },
   "source": [
    "Now we will check how many survived by Pclass and Fategroup:"
   ]
  },
  {
   "cell_type": "code",
   "execution_count": 279,
   "metadata": {
    "pycharm": {
     "name": "#%%\n"
    }
   },
   "outputs": [
    {
     "data": {
      "text/plain": "                 Survived              \n                    count sum      mean\nPclass FareGroup                       \n1      Normal         109  72  0.660550\n       Overpaid        53  39  0.735849\n       Underpaid       54  25  0.462963\n2      Normal         103  51  0.495146\n       Overpaid        39  23  0.589744\n       Underpaid       42  13  0.309524\n3      Normal         277  68  0.245487\n       Overpaid       120  34  0.283333\n       Underpaid       94  17  0.180851",
      "text/html": "<div>\n<style scoped>\n    .dataframe tbody tr th:only-of-type {\n        vertical-align: middle;\n    }\n\n    .dataframe tbody tr th {\n        vertical-align: top;\n    }\n\n    .dataframe thead tr th {\n        text-align: left;\n    }\n\n    .dataframe thead tr:last-of-type th {\n        text-align: right;\n    }\n</style>\n<table border=\"1\" class=\"dataframe\">\n  <thead>\n    <tr>\n      <th></th>\n      <th></th>\n      <th colspan=\"3\" halign=\"left\">Survived</th>\n    </tr>\n    <tr>\n      <th></th>\n      <th></th>\n      <th>count</th>\n      <th>sum</th>\n      <th>mean</th>\n    </tr>\n    <tr>\n      <th>Pclass</th>\n      <th>FareGroup</th>\n      <th></th>\n      <th></th>\n      <th></th>\n    </tr>\n  </thead>\n  <tbody>\n    <tr>\n      <th rowspan=\"3\" valign=\"top\">1</th>\n      <th>Normal</th>\n      <td>109</td>\n      <td>72</td>\n      <td>0.660550</td>\n    </tr>\n    <tr>\n      <th>Overpaid</th>\n      <td>53</td>\n      <td>39</td>\n      <td>0.735849</td>\n    </tr>\n    <tr>\n      <th>Underpaid</th>\n      <td>54</td>\n      <td>25</td>\n      <td>0.462963</td>\n    </tr>\n    <tr>\n      <th rowspan=\"3\" valign=\"top\">2</th>\n      <th>Normal</th>\n      <td>103</td>\n      <td>51</td>\n      <td>0.495146</td>\n    </tr>\n    <tr>\n      <th>Overpaid</th>\n      <td>39</td>\n      <td>23</td>\n      <td>0.589744</td>\n    </tr>\n    <tr>\n      <th>Underpaid</th>\n      <td>42</td>\n      <td>13</td>\n      <td>0.309524</td>\n    </tr>\n    <tr>\n      <th rowspan=\"3\" valign=\"top\">3</th>\n      <th>Normal</th>\n      <td>277</td>\n      <td>68</td>\n      <td>0.245487</td>\n    </tr>\n    <tr>\n      <th>Overpaid</th>\n      <td>120</td>\n      <td>34</td>\n      <td>0.283333</td>\n    </tr>\n    <tr>\n      <th>Underpaid</th>\n      <td>94</td>\n      <td>17</td>\n      <td>0.180851</td>\n    </tr>\n  </tbody>\n</table>\n</div>"
     },
     "execution_count": 279,
     "metadata": {},
     "output_type": "execute_result"
    }
   ],
   "source": [
    "## use groupby() and agg() to get the table bellow\n",
    "result.groupby(['Pclass', 'FareGroup']).agg({'Survived':[\"count\",sum,\"mean\"]})"
   ]
  },
  {
   "cell_type": "markdown",
   "metadata": {
    "pycharm": {
     "name": "#%% md\n"
    }
   },
   "source": [
    "Survived\n",
    "\n",
    "Pclass\tFareGroup count\tsum\tmean\n",
    "    1\tNormal\t   109\t72\t0.660550\n",
    "        Overpaid\t53\t39\t0.735849\n",
    "        Underpaid\t54\t25\t0.462963\n",
    "    2\tNormal\t   103\t51\t0.495146\n",
    "        Overpaid\t39\t23\t0.589744\n",
    "        Underpaid\t42\t13\t0.309524\n",
    "    3\tNormal\t   277\t68\t0.245487\n",
    "        Overpaid   120\t34\t0.283333\n",
    "        Underpaid\t94\t17\t0.180851"
   ]
  },
  {
   "cell_type": "markdown",
   "metadata": {
    "pycharm": {
     "name": "#%% md\n"
    }
   },
   "source": [
    "#### The title passanger had and survival \n",
    "\n",
    "Which were the five most common titles passanger had? (Sir, Mr, Mrs, etc)?\n",
    " \n",
    "For this part we will take the 'Name' column and will split all the words in the name by the white space.\n",
    " \n",
    "Then we will join all the words and calculate the frequency of appearance of each world in descending order.\n",
    " \n",
    "We will take the five most common words (must be titles), and with them we will create a new column. Then we will procede as we did in the other analyses.\n"
   ]
  },
  {
   "cell_type": "code",
   "execution_count": 280,
   "metadata": {
    "pycharm": {
     "name": "#%%\n"
    }
   },
   "outputs": [
    {
     "name": "stdout",
     "output_type": "stream",
     "text": [
      "Braund, Mr. Owen Harris Cumings, Mrs. John Bradley (Florence Briggs Thayer) Heikkinen, Miss. Laina F\n"
     ]
    }
   ],
   "source": [
    "## Join all the words in the 'Name' column\n",
    "words = ' '.join(titanic['Name'])\n",
    "len(words)\n",
    "print(words[0:100])"
   ]
  },
  {
   "cell_type": "code",
   "execution_count": 281,
   "metadata": {
    "pycharm": {
     "name": "#%%\n"
    }
   },
   "outputs": [
    {
     "name": "stdout",
     "output_type": "stream",
     "text": [
      "Braund Mr Owen Harris Cumings Mrs John Bradley Florence Briggs Thayer Heikkinen Miss Laina Futrelle \n"
     ]
    }
   ],
   "source": [
    "## the following code will delete the punctuation\n",
    "import string\n",
    "\n",
    "table = str.maketrans({key: None for key in string.punctuation})\n",
    "words = words.translate(table)\n",
    "print(words[0:100])"
   ]
  },
  {
   "cell_type": "code",
   "execution_count": 282,
   "metadata": {
    "pycharm": {
     "name": "#%%\n"
    }
   },
   "outputs": [
    {
     "name": "stdout",
     "output_type": "stream",
     "text": [
      "<class 'list'>\n",
      "['Mr', 'Owen', 'Harris', 'Cumings', 'Mrs', 'John', 'Bradley', 'Florence', 'Briggs']\n"
     ]
    }
   ],
   "source": [
    "## now we will split by the white spaces the words string into a list\n",
    "wordlist = words.split()\n",
    "print(type(wordlist))\n",
    "print(wordlist[1:10])"
   ]
  },
  {
   "cell_type": "code",
   "execution_count": 283,
   "metadata": {
    "pycharm": {
     "name": "#%%\n"
    }
   },
   "outputs": [
    {
     "name": "stdout",
     "output_type": "stream",
     "text": [
      "1526\n",
      "1526\n",
      "1526\n",
      "<class 'dict_keys'>\n",
      "<class 'dict_values'>\n"
     ]
    }
   ],
   "source": [
    "## We will count each unique word and show the top 20 in descending order\n",
    "## There are lots of ways to this. We will generate a dictionary to make the counts\n",
    "\n",
    "worddict = {x:wordlist.count(x) for x in wordlist}\n",
    "\n",
    "wordunq, wordcnt = worddict.keys(), worddict.values()\n",
    "\n",
    "\n",
    "print(len(worddict))\n",
    "print(len(wordunq))\n",
    "print(len(wordcnt))\n",
    "\n",
    "#wordunq.tolist()\n",
    "\n",
    "print(type(wordunq))\n",
    "print(type(wordcnt))\n"
   ]
  },
  {
   "cell_type": "code",
   "execution_count": 284,
   "outputs": [
    {
     "data": {
      "text/plain": "      quantity  word\n1           Mr   521\n12        Miss   182\n5          Mrs   129\n21     William    64\n6         John    44\n...        ...   ...\n768     Aubart     1\n769        Mme     1\n770   Leontine     1\n771    Pauline     1\n1525    Dooley     1\n\n[1526 rows x 2 columns]",
      "text/html": "<div>\n<style scoped>\n    .dataframe tbody tr th:only-of-type {\n        vertical-align: middle;\n    }\n\n    .dataframe tbody tr th {\n        vertical-align: top;\n    }\n\n    .dataframe thead th {\n        text-align: right;\n    }\n</style>\n<table border=\"1\" class=\"dataframe\">\n  <thead>\n    <tr style=\"text-align: right;\">\n      <th></th>\n      <th>quantity</th>\n      <th>word</th>\n    </tr>\n  </thead>\n  <tbody>\n    <tr>\n      <th>1</th>\n      <td>Mr</td>\n      <td>521</td>\n    </tr>\n    <tr>\n      <th>12</th>\n      <td>Miss</td>\n      <td>182</td>\n    </tr>\n    <tr>\n      <th>5</th>\n      <td>Mrs</td>\n      <td>129</td>\n    </tr>\n    <tr>\n      <th>21</th>\n      <td>William</td>\n      <td>64</td>\n    </tr>\n    <tr>\n      <th>6</th>\n      <td>John</td>\n      <td>44</td>\n    </tr>\n    <tr>\n      <th>...</th>\n      <td>...</td>\n      <td>...</td>\n    </tr>\n    <tr>\n      <th>768</th>\n      <td>Aubart</td>\n      <td>1</td>\n    </tr>\n    <tr>\n      <th>769</th>\n      <td>Mme</td>\n      <td>1</td>\n    </tr>\n    <tr>\n      <th>770</th>\n      <td>Leontine</td>\n      <td>1</td>\n    </tr>\n    <tr>\n      <th>771</th>\n      <td>Pauline</td>\n      <td>1</td>\n    </tr>\n    <tr>\n      <th>1525</th>\n      <td>Dooley</td>\n      <td>1</td>\n    </tr>\n  </tbody>\n</table>\n<p>1526 rows × 2 columns</p>\n</div>"
     },
     "execution_count": 284,
     "metadata": {},
     "output_type": "execute_result"
    }
   ],
   "source": [
    "## now we tranform the keys and values into lists and create with them a DataFrame\n",
    "df_name = pd.DataFrame.from_dict(worddict.items())\n",
    "df_name = df_name.rename({0: 'quantity', 1: 'word'}, axis='columns').sort_values('word', ascending=False)\n",
    "df_name"
   ],
   "metadata": {
    "collapsed": false,
    "pycharm": {
     "name": "#%%\n"
    }
   }
  },
  {
   "cell_type": "markdown",
   "metadata": {
    "pycharm": {
     "name": "#%% md\n"
    }
   },
   "source": [
    "Answer:\n",
    "    quantity\tword\n",
    " \t521\t        Mr\n",
    "\t182\t        Miss\n",
    "\t129\t        Mrs\n",
    "\t64\t        William\n",
    "\t44\t        John\n",
    "\t40\t        Master"
   ]
  },
  {
   "cell_type": "markdown",
   "metadata": {
    "pycharm": {
     "name": "#%% md\n"
    }
   },
   "source": [
    "We have shown here that the most common titles were Mr (521), Miss (182), Mrs (129) and Master (40). \n",
    " \n",
    "This totals 872 out of 891 passengers (97.9%).\n",
    " \n",
    "Now we will create a new variable with those titles and check for differences on survival among them.\n",
    " \n",
    "We can use the following function to decide if a title is present on a name:\n",
    "\n",
    "<code> \n",
    " titanic['Name'].str.contains('Mr')\n",
    "</code>"
   ]
  },
  {
   "cell_type": "code",
   "execution_count": 306,
   "outputs": [
    {
     "data": {
      "text/plain": "       Survived               \n          count  sum      mean\nTitle                         \nMaster       40   23  0.575000\nMiss        180  126  0.700000\nMr          518   82  0.158301\nMrs         129  102  0.790698\nOuter        24    9  0.375000",
      "text/html": "<div>\n<style scoped>\n    .dataframe tbody tr th:only-of-type {\n        vertical-align: middle;\n    }\n\n    .dataframe tbody tr th {\n        vertical-align: top;\n    }\n\n    .dataframe thead tr th {\n        text-align: left;\n    }\n\n    .dataframe thead tr:last-of-type th {\n        text-align: right;\n    }\n</style>\n<table border=\"1\" class=\"dataframe\">\n  <thead>\n    <tr>\n      <th></th>\n      <th colspan=\"3\" halign=\"left\">Survived</th>\n    </tr>\n    <tr>\n      <th></th>\n      <th>count</th>\n      <th>sum</th>\n      <th>mean</th>\n    </tr>\n    <tr>\n      <th>Title</th>\n      <th></th>\n      <th></th>\n      <th></th>\n    </tr>\n  </thead>\n  <tbody>\n    <tr>\n      <th>Master</th>\n      <td>40</td>\n      <td>23</td>\n      <td>0.575000</td>\n    </tr>\n    <tr>\n      <th>Miss</th>\n      <td>180</td>\n      <td>126</td>\n      <td>0.700000</td>\n    </tr>\n    <tr>\n      <th>Mr</th>\n      <td>518</td>\n      <td>82</td>\n      <td>0.158301</td>\n    </tr>\n    <tr>\n      <th>Mrs</th>\n      <td>129</td>\n      <td>102</td>\n      <td>0.790698</td>\n    </tr>\n    <tr>\n      <th>Outer</th>\n      <td>24</td>\n      <td>9</td>\n      <td>0.375000</td>\n    </tr>\n  </tbody>\n</table>\n</div>"
     },
     "execution_count": 306,
     "metadata": {},
     "output_type": "execute_result"
    }
   ],
   "source": [
    "titanic.loc[titanic['Name'].str.contains('Master'), 'Title'] = 'Master'\n",
    "titanic.loc[titanic['Name'].str.contains('Miss'), 'Title'] = 'Miss'\n",
    "titanic.loc[titanic['Name'].str.contains('Mr'), 'Title'] = 'Mr'\n",
    "titanic.loc[titanic['Name'].str.contains('Mrs'), 'Title'] = 'Mrs'\n",
    "titanic.loc[titanic['Title'].isnull(), 'Title'] = 'Outer'\n",
    "\n",
    "\n",
    "\n",
    "# ## then use groupby() and agg() to get the table bellow\n",
    "titanic.groupby(['Title']).agg({'Survived':[\"count\",sum,\"mean\"]})"
   ],
   "metadata": {
    "collapsed": false,
    "pycharm": {
     "name": "#%%\n"
    }
   }
  },
  {
   "cell_type": "markdown",
   "source": [
    "Survived\n",
    "\n",
    "Title\tcount\tsum\tmean\t\t\n",
    "Master\t  40\t23\t0.575000\n",
    "Miss\t 180\t126\t0.700000\n",
    "Mr\t     518\t82\t0.158301\n",
    "Mrs\t     130\t103\t0.792308\n",
    "Other\t  24\t9\t0.375000"
   ],
   "metadata": {
    "collapsed": false,
    "pycharm": {
     "name": "#%% md\n"
    }
   }
  }
 ],
 "metadata": {
  "kernelspec": {
   "display_name": "Python 3 (ipykernel)",
   "language": "python",
   "name": "python3"
  },
  "language_info": {
   "codemirror_mode": {
    "name": "ipython",
    "version": 3
   },
   "file_extension": ".py",
   "mimetype": "text/x-python",
   "name": "python",
   "nbconvert_exporter": "python",
   "pygments_lexer": "ipython3",
   "version": "3.8.2"
  }
 },
 "nbformat": 4,
 "nbformat_minor": 2
}