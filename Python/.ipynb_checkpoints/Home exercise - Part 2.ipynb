{
 "cells": [
  {
   "cell_type": "markdown",
   "metadata": {
    "pycharm": {
     "name": "#%% md\n"
    }
   },
   "source": [
    "# Python Home Exercises"
   ]
  },
  {
   "cell_type": "markdown",
   "metadata": {
    "pycharm": {
     "name": "#%% md\n"
    }
   },
   "source": [
    "## Functions in Python\n",
    " \n",
    "Create a function that converts any given time period (days, hours and minutes) into seconds. The input must include a string representing the time period and an integer representing the value of the time period. The function must be like this:\n",
    " \n",
    "<code>\n",
    "> convert2sec(23,'min')\n",
    "> 23 minutes = 1380 seconds\n",
    "</code>\n",
    "\n",
    "Please take into account the different ways users can input the parameters (see below the running examples)"
   ]
  },
  {
   "cell_type": "code",
   "execution_count": 25,
   "metadata": {
    "pycharm": {
     "name": "#%%\n"
    }
   },
   "outputs": [],
   "source": [
    "### your code\n",
    "def convert2sec(num, type_time):\n",
    "    if isinstance(num, int) and isinstance(type_time, str):\n",
    "        try:\n",
    "            if type_time == \"H%\" or \"h%\":\n",
    "                num = num * 3600\n",
    "                print(num)\n",
    "            elif type_time == \"M%\" or \"m%\":\n",
    "                num = num * 60\n",
    "                print(num)\n",
    "            elif type_time == \"D%\" or \"d%\":\n",
    "                num = num * 86400\n",
    "                print(num)\n",
    "        except:\n",
    "            print(f'{num}')\n"
   ]
  },
  {
   "cell_type": "code",
   "execution_count": 26,
   "metadata": {
    "pycharm": {
     "name": "#%%\n"
    }
   },
   "outputs": [
    {
     "name": "stdout",
     "output_type": "stream",
     "text": [
      "82800\n"
     ]
    }
   ],
   "source": [
    "convert2sec(23,'min')"
   ]
  },
  {
   "cell_type": "code",
   "execution_count": 27,
   "metadata": {
    "pycharm": {
     "name": "#%%\n"
    }
   },
   "outputs": [
    {
     "name": "stdout",
     "output_type": "stream",
     "text": [
      "10800\n"
     ]
    }
   ],
   "source": [
    "convert2sec(3,'DAYS')"
   ]
  },
  {
   "cell_type": "code",
   "execution_count": 28,
   "metadata": {
    "pycharm": {
     "name": "#%%\n"
    }
   },
   "outputs": [
    {
     "name": "stdout",
     "output_type": "stream",
     "text": [
      "36000\n"
     ]
    }
   ],
   "source": [
    "convert2sec(10,'Hrs')"
   ]
  },
  {
   "cell_type": "code",
   "execution_count": 31,
   "outputs": [],
   "source": [],
   "metadata": {
    "collapsed": false,
    "pycharm": {
     "name": "#%%\n"
    }
   }
  },
  {
   "cell_type": "markdown",
   "metadata": {
    "pycharm": {
     "name": "#%% md\n"
    }
   },
   "source": [
    "## Object Oriented Programming\n",
    "---\n",
    "<code></code>\n",
    "### Exercise: \n",
    " \n",
    "1. Write a class for cars. Each car has the following attributes:  \n",
    "    + Company \n",
    "    + Model \n",
    "    + BodyStyle \n",
    "    + Doors \n",
    "    + Cylinders \n",
    "    + Hybrid \n",
    " \n",
    "\n",
    "2. Create a method to retrieve and to set each of the attributes, and a constructor for printing the attribute values.\n",
    " \n",
    "3. Create objects for each of the following car models:\n",
    "\n",
    "    - Toyota Corola Sedan with 4 doors, 4 cylinder, hybrid\n",
    "    - Hyundai i30 Hatchback, 5 doors, 4 cylinder\n",
    "    - Fiat Tipo Wagon, 5 doors, 8 cylinder\n",
    "    - Seat Leon Hatchback, 3 doors, 4 cylinder\n",
    " \n",
    "\n",
    "4. Use the 'print' function to print each object attributes.\n",
    "\n",
    "<code></code>\n",
    "---"
   ]
  },
  {
   "cell_type": "code",
   "execution_count": null,
   "metadata": {
    "pycharm": {
     "name": "#%%\n"
    }
   },
   "outputs": [],
   "source": [
    "class cars:\n",
    "    def __init__(self, Company, Model = None, BodyStyle = None, Doors = None, Cylinders = None, Hybrid =None):\n",
    "        self.Company = Company\n",
    "        self.Model = Model\n",
    "        self.BodyStyle = BodyStyle\n",
    "        self.Doors = Doors\n",
    "        self.Cylinders = Cylinders\n",
    "        self.Hybrid = Hybrid\n",
    "\n",
    "    def setCompany(self, Company):\n",
    "        self.Company = Company\n",
    "    def getCompany(self):\n",
    "        return self.Company\n",
    "    def setModel(self, Model):\n",
    "        self.Model = Model\n",
    "    def getModel(self):\n",
    "        return self.Model\n",
    "    def setBodyStyle(self, BodyStyle):\n",
    "        self.BodyStyle = BodyStyle\n",
    "    def getDoors(self):\n",
    "        return self.Doors\n",
    "    def setDoors(self, Doors):\n",
    "        self.Doors = Doors\n",
    "    def getCylinders(self):\n",
    "        return self.Cylinders\n",
    "    def setCylinders(self, Cylinders):\n",
    "        self.Cylinders = Cylinders\n",
    "    def getHybrid(self):\n",
    "        return self.Hybrid\n",
    "    def __str__(self):\n",
    "        return '''Student Name: %s \\nTeacher Name: %s \\nCourse Name: %s \\nClassroom Number: %s \\n''' % (self.name, self.teacher, self.course, self.class_num)\n"
   ]
  },
  {
   "cell_type": "code",
   "execution_count": null,
   "metadata": {
    "pycharm": {
     "name": "#%%\n"
    }
   },
   "outputs": [],
   "source": []
  },
  {
   "cell_type": "code",
   "execution_count": null,
   "metadata": {
    "pycharm": {
     "name": "#%%\n"
    }
   },
   "outputs": [],
   "source": []
  }
 ],
 "metadata": {
  "kernelspec": {
   "display_name": "Python 3",
   "language": "python",
   "name": "python3"
  },
  "language_info": {
   "codemirror_mode": {
    "name": "ipython",
    "version": 3
   },
   "file_extension": ".py",
   "mimetype": "text/x-python",
   "name": "python",
   "nbconvert_exporter": "python",
   "pygments_lexer": "ipython3",
   "version": "3.7.6"
  }
 },
 "nbformat": 4,
 "nbformat_minor": 4
}